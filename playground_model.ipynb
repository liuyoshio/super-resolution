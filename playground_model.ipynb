{
 "cells": [
  {
   "cell_type": "code",
   "execution_count": 2,
   "metadata": {},
   "outputs": [],
   "source": [
    "import math\n",
    "import torch\n",
    "import torch.nn as nn\n",
    "import torch.nn.functional as F\n",
    "import torch.utils.checkpoint as checkpoint\n",
    "from timm.models.layers import DropPath, to_2tuple, trunc_normal_\n",
    "import numpy as np\n",
    "import matplotlib.pyplot as plt"
   ]
  },
  {
   "cell_type": "code",
   "execution_count": 25,
   "metadata": {},
   "outputs": [
    {
     "name": "stdout",
     "output_type": "stream",
     "text": [
      "torch.Size([65025, 1, 1, 3])\n"
     ]
    }
   ],
   "source": [
    "def window_partition(x, window_size):\n",
    "    \"\"\"\n",
    "    Args:\n",
    "        x: (B, H, W, C)\n",
    "        window_size (int): window size\n",
    "\n",
    "    Returns:\n",
    "        windows: (num_windows*B, window_size, window_size, C)\n",
    "    \"\"\"\n",
    "    B, H, W, C = x.shape\n",
    "    x = x.view(B, H // window_size, window_size, W // window_size, window_size, C)\n",
    "    windows = x.permute(0, 1, 3, 2, 4, 5).contiguous().view(-1, window_size, window_size, C)\n",
    "    return windows\n",
    "\n",
    "x = torch.randn(1, 255, 255, 3)\n",
    "windows = window_partition(x, 1)\n",
    "print(windows.shape)"
   ]
  },
  {
   "cell_type": "code",
   "execution_count": 11,
   "metadata": {},
   "outputs": [
    {
     "data": {
      "text/plain": [
       "tensor([[18, 19, 20, 21, 22, 23, 16, 17],\n",
       "        [26, 27, 28, 29, 30, 31, 24, 25],\n",
       "        [34, 35, 36, 37, 38, 39, 32, 33],\n",
       "        [42, 43, 44, 45, 46, 47, 40, 41],\n",
       "        [50, 51, 52, 53, 54, 55, 48, 49],\n",
       "        [58, 59, 60, 61, 62, 63, 56, 57],\n",
       "        [ 2,  3,  4,  5,  6,  7,  0,  1],\n",
       "        [10, 11, 12, 13, 14, 15,  8,  9]])"
      ]
     },
     "execution_count": 11,
     "metadata": {},
     "output_type": "execute_result"
    }
   ],
   "source": [
    "array = np.ones((8,8)).astype(int)\n",
    "for i in range(8):\n",
    "    for j in range(8):\n",
    "        array[i][j] = i*8 + j\n",
    "\n",
    "tensor = torch.from_numpy(array)\n",
    "torch.roll(tensor, shifts=(-2, -2), dims=(0,1))"
   ]
  },
  {
   "cell_type": "code",
   "execution_count": 33,
   "metadata": {},
   "outputs": [
    {
     "data": {
      "text/plain": [
       "tensor([[[ 0,  1,  2,  3,  4,  5,  6,  7],\n",
       "         [ 7,  8,  9, 10, 11, 12, 13, 14]],\n",
       "\n",
       "        [[14, 15, 16, 17, 18, 19, 20, 21],\n",
       "         [21, 22, 23, 24, 25, 26, 27, 28]],\n",
       "\n",
       "        [[28, 29, 30, 31, 32, 33, 34, 35],\n",
       "         [35, 36, 37, 38, 39, 40, 41, 42]],\n",
       "\n",
       "        [[42, 43, 44, 45, 46, 47, 48, 49],\n",
       "         [49, 50, 51, 52, 53, 54, 55, 56]]])"
      ]
     },
     "execution_count": 33,
     "metadata": {},
     "output_type": "execute_result"
    }
   ],
   "source": [
    "array = np.ones((8,8)).astype(int)\n",
    "for i in range(8):\n",
    "    for j in range(8):\n",
    "        array[i][j] = i*7 + j\n",
    "tensor = torch.from_numpy(array)\n",
    "\n",
    "tensor.view(8//2,2, 8)"
   ]
  },
  {
   "cell_type": "code",
   "execution_count": 16,
   "metadata": {},
   "outputs": [
    {
     "name": "stdout",
     "output_type": "stream",
     "text": [
      "attn shape: torch.Size([5, 5, 16, 16])\n",
      "tensor([84, 83, 82,  ..., 86, 85, 84])\n",
      "torch.Size([169, 5])\n"
     ]
    },
    {
     "data": {
      "text/plain": [
       "torch.Size([2401, 5])"
      ]
     },
     "execution_count": 16,
     "metadata": {},
     "output_type": "execute_result"
    },
    {
     "data": {
      "image/png": "[encoded data removed]",
      "text/plain": [
       "<Figure size 432x288 with 1 Axes>"
      ]
     },
     "metadata": {
      "needs_background": "light"
     },
     "output_type": "display_data"
    }
   ],
   "source": [
    "window_size = (7,7)\n",
    "num_heads = 5\n",
    "dim = 3\n",
    "# 2*Wh-1 * 2*Ww-1, nH\n",
    "relative_position_bias_table = nn.Parameter(torch.zeros((2 * window_size[0] - 1) * (2 * window_size[1] - 1), 5))\n",
    "\n",
    "coords_h = torch.arange(window_size[0])\n",
    "coords_w = torch.arange(window_size[1])\n",
    "\n",
    "coords = torch.stack(torch.meshgrid([coords_h, coords_w]))  # 2, Wh, Ww\n",
    "coords_flatten = torch.flatten(coords, 1)  # 2, Wh*Ww\n",
    "\n",
    "relative_coords = coords_flatten[:, :, None] - coords_flatten[:, None, :]  # 2, Wh*Ww, Wh*Ww\n",
    "\n",
    "relative_coords = relative_coords.permute(1, 2, 0).contiguous()  # Wh*Ww, Wh*Ww, 2\n",
    "relative_coords[:,:,0] += window_size[0] - 1  # shift to start from 0\n",
    "relative_coords[:,:,1] += window_size[1] - 1\n",
    "relative_coords[:,:,0] *= 2 * window_size[1] - 1\n",
    "relative_position_index = relative_coords.sum(-1)  # Wh*Ww, Wh*Ww\n",
    "\n",
    "plt.imshow(relative_position_index)\n",
    "\n",
    "x = torch.from_numpy(np.random.rand(5, 16, 20)).type(torch.FloatTensor)\n",
    "B_, N, C = x.shape\n",
    "\n",
    "qkv = nn.Linear(20, 3*20)\n",
    "x_qkv = qkv(x).reshape(B_, N, 3, num_heads, C // num_heads).permute(2, 0, 3, 1, 4)\n",
    "q, k, v = x_qkv[0], x_qkv[1], x_qkv[2]  # make torchscript happy (cannot use tensor as tuple)\n",
    "\n",
    "attn = (q @ k.transpose(-2, -1))\n",
    "\n",
    "print(f'attn shape: {attn.shape}')\n",
    "\n",
    "relative_position_bias = relative_position_bias_table[relative_position_index.view(-1)].view(window_size[0]*window_size[1], window_size[0]*window_size[1], -1)  # Wh*Ww, Wh*Ww, nH\n",
    "\n",
    "print(relative_position_index.view(-1))\n",
    "print(relative_position_bias_table.shape)\n",
    "relative_position_bias_table[relative_position_index.view(-1)].shape"
   ]
  },
  {
   "cell_type": "code",
   "execution_count": 54,
   "metadata": {},
   "outputs": [
    {
     "name": "stdout",
     "output_type": "stream",
     "text": [
      "tensor([[[[0., 0., 0., 0.],\n",
      "          [0., 0., 0., 0.],\n",
      "          [0., 0., 0., 0.],\n",
      "          [0., 0., 0., 0.]]],\n",
      "\n",
      "\n",
      "        [[[1., 1., 2., 2.],\n",
      "          [1., 1., 2., 2.],\n",
      "          [1., 1., 2., 2.],\n",
      "          [1., 1., 2., 2.]]],\n",
      "\n",
      "\n",
      "        [[[3., 3., 3., 3.],\n",
      "          [3., 3., 3., 3.],\n",
      "          [6., 6., 6., 6.],\n",
      "          [6., 6., 6., 6.]]],\n",
      "\n",
      "\n",
      "        [[[4., 4., 5., 5.],\n",
      "          [4., 4., 5., 5.],\n",
      "          [7., 7., 8., 8.],\n",
      "          [7., 7., 8., 8.]]]])\n",
      "mask_windows shape: torch.Size([4, 16])\n",
      "torch.Size([4, 16, 1])\n"
     ]
    },
    {
     "data": {
      "text/plain": [
       "tensor([[ 0.,  0.,  1.,  1.,  0.,  0.,  1.,  1.,  3.,  3.,  4.,  4.,  3.,  3.,\n",
       "          4.,  4.],\n",
       "        [ 0.,  0.,  1.,  1.,  0.,  0.,  1.,  1.,  3.,  3.,  4.,  4.,  3.,  3.,\n",
       "          4.,  4.],\n",
       "        [-1., -1.,  0.,  0., -1., -1.,  0.,  0.,  2.,  2.,  3.,  3.,  2.,  2.,\n",
       "          3.,  3.],\n",
       "        [-1., -1.,  0.,  0., -1., -1.,  0.,  0.,  2.,  2.,  3.,  3.,  2.,  2.,\n",
       "          3.,  3.],\n",
       "        [ 0.,  0.,  1.,  1.,  0.,  0.,  1.,  1.,  3.,  3.,  4.,  4.,  3.,  3.,\n",
       "          4.,  4.],\n",
       "        [ 0.,  0.,  1.,  1.,  0.,  0.,  1.,  1.,  3.,  3.,  4.,  4.,  3.,  3.,\n",
       "          4.,  4.],\n",
       "        [-1., -1.,  0.,  0., -1., -1.,  0.,  0.,  2.,  2.,  3.,  3.,  2.,  2.,\n",
       "          3.,  3.],\n",
       "        [-1., -1.,  0.,  0., -1., -1.,  0.,  0.,  2.,  2.,  3.,  3.,  2.,  2.,\n",
       "          3.,  3.],\n",
       "        [-3., -3., -2., -2., -3., -3., -2., -2.,  0.,  0.,  1.,  1.,  0.,  0.,\n",
       "          1.,  1.],\n",
       "        [-3., -3., -2., -2., -3., -3., -2., -2.,  0.,  0.,  1.,  1.,  0.,  0.,\n",
       "          1.,  1.],\n",
       "        [-4., -4., -3., -3., -4., -4., -3., -3., -1., -1.,  0.,  0., -1., -1.,\n",
       "          0.,  0.],\n",
       "        [-4., -4., -3., -3., -4., -4., -3., -3., -1., -1.,  0.,  0., -1., -1.,\n",
       "          0.,  0.],\n",
       "        [-3., -3., -2., -2., -3., -3., -2., -2.,  0.,  0.,  1.,  1.,  0.,  0.,\n",
       "          1.,  1.],\n",
       "        [-3., -3., -2., -2., -3., -3., -2., -2.,  0.,  0.,  1.,  1.,  0.,  0.,\n",
       "          1.,  1.],\n",
       "        [-4., -4., -3., -3., -4., -4., -3., -3., -1., -1.,  0.,  0., -1., -1.,\n",
       "          0.,  0.],\n",
       "        [-4., -4., -3., -3., -4., -4., -3., -3., -1., -1.,  0.,  0., -1., -1.,\n",
       "          0.,  0.]])"
      ]
     },
     "execution_count": 54,
     "metadata": {},
     "output_type": "execute_result"
    }
   ],
   "source": [
    "patch_size = 2\n",
    "window_size = 4\n",
    "input_resolution = (8,8)\n",
    "H, W = input_resolution\n",
    "shift_size = 2\n",
    "\n",
    "img_mask = torch.zeros((1, H, W, 1))\n",
    "cnt = 0\n",
    "for h in (\n",
    "        slice(0, -window_size),\n",
    "        slice(-window_size, -shift_size),\n",
    "        slice(-shift_size, None)):\n",
    "    for w in (\n",
    "            slice(0, -window_size),\n",
    "            slice(-window_size, -shift_size),\n",
    "            slice(-shift_size, None)):\n",
    "        img_mask[:, h, w, :] = cnt\n",
    "        cnt += 1\n",
    "\n",
    "mask_windows = window_partition(img_mask, window_size)\n",
    "\n",
    "print(mask_windows.permute(0,3,1,2))\n",
    "\n",
    "mask_windows = mask_windows.view(-1, window_size * window_size)\n",
    "\n",
    "print(f'mask_windows shape: {mask_windows.shape}')\n",
    "\n",
    "attn_mask = mask_windows.unsqueeze(1) - mask_windows.unsqueeze(2)\n",
    "\n",
    "print(mask_windows.unsqueeze(2).shape)\n",
    "\n",
    "attn_mask[3]\n"
   ]
  },
  {
   "cell_type": "code",
   "execution_count": null,
   "metadata": {},
   "outputs": [],
   "source": []
  }
 ],
 "metadata": {
  "kernelspec": {
   "display_name": "torch-nightly",
   "language": "python",
   "name": "python3"
  },
  "language_info": {
   "codemirror_mode": {
    "name": "ipython",
    "version": 3
   },
   "file_extension": ".py",
   "mimetype": "text/x-python",
   "name": "python",
   "nbconvert_exporter": "python",
   "pygments_lexer": "ipython3",
   "version": "3.8.13"
  },
  "orig_nbformat": 4,
  "vscode": {
   "interpreter": {
    "hash": "467edc1d82b92b2ffb7211bdc470018a0058841a49c371a72ebac196f10e7651"
   }
  }
 },
 "nbformat": 4,
 "nbformat_minor": 2
}
